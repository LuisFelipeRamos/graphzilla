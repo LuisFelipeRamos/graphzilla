{
 "cells": [
  {
   "cell_type": "code",
   "execution_count": 1,
   "metadata": {},
   "outputs": [],
   "source": [
    "import numpy as np\n",
    "import numpy.typing as npt\n",
    "from disjoint_set import DisjointSet\n",
    "\n",
    "NDArrayInt = npt.NDArray[np.int_]\n",
    "NDArrayFloat = npt.NDArray[np.float_]\n",
    "\n",
    "import graphblas as gb\n",
    "import networkx as nx\n",
    "from scipy.sparse import *\n",
    "from scipy.sparse.csgraph import floyd_warshall"
   ]
  },
  {
   "cell_type": "code",
   "execution_count": 7,
   "metadata": {},
   "outputs": [
    {
     "name": "stdout",
     "output_type": "stream",
     "text": [
      "\"M_12\"     nvals  nrows  ncols  dtype         format\n",
      "gb.Matrix      6      5      5  INT64  bitmapr (iso)\n"
     ]
    },
    {
     "ename": "TypeError",
     "evalue": "'MatrixExpression' object is not callable",
     "output_type": "error",
     "traceback": [
      "\u001b[0;31m---------------------------------------------------------------------------\u001b[0m",
      "\u001b[0;31mTypeError\u001b[0m                                 Traceback (most recent call last)",
      "Cell \u001b[0;32mIn[7], line 6\u001b[0m\n\u001b[1;32m      3\u001b[0m gb_graph \u001b[39m=\u001b[39m gb\u001b[39m.\u001b[39mio\u001b[39m.\u001b[39mfrom_scipy_sparse(graph)\n\u001b[1;32m      4\u001b[0m \u001b[39mprint\u001b[39m(gb_graph)\n\u001b[0;32m----> 6\u001b[0m C(gb\u001b[39m.\u001b[39;49mop\u001b[39m.\u001b[39;49mmin) \u001b[39m<<\u001b[39m gb\u001b[39m.\u001b[39msemiring\u001b[39m.\u001b[39mmin_plus(gb_graph \u001b[39m@\u001b[39m gb_graph)\n\u001b[1;32m      7\u001b[0m \u001b[39mprint\u001b[39m(C)\n\u001b[1;32m      9\u001b[0m \u001b[39mdef\u001b[39;00m \u001b[39mgb_shortest_paths\u001b[39m(gb_graph) \u001b[39m-\u001b[39m\u001b[39m>\u001b[39m NDArrayFloat:\n",
      "\u001b[0;31mTypeError\u001b[0m: 'MatrixExpression' object is not callable"
     ]
    }
   ],
   "source": [
    "graph = random(5, 5, density=0.25, data_rvs=np.ones).astype(np.int_)\n",
    "\n",
    "gb_graph = gb.io.from_scipy_sparse(graph)\n",
    "print(gb_graph)\n",
    "\n",
    "C(gb.op.min) << gb.semiring.min_plus(gb_graph @ gb_graph)\n",
    "print(C)\n",
    "\n",
    "def gb_shortest_paths(gb_graph) -> NDArrayFloat:\n",
    "    shortest_paths: NDArrayFloat = np.zeros(gb_graph.shape)\n",
    "\n",
    "\n",
    "# print(floyd_warshall(graph.todense()))"
   ]
  },
  {
   "cell_type": "code",
   "execution_count": 21,
   "metadata": {},
   "outputs": [
    {
     "name": "stdout",
     "output_type": "stream",
     "text": [
      "(array([0, 1, 2], dtype=uint64), array([0., 2., 5.]))\n",
      "(array([0, 1, 2, 3], dtype=uint64), array([0. , 2. , 3.5, 5.5]))\n",
      "(array([0, 1, 2, 3], dtype=uint64), array([0. , 2. , 3.5, 4. ]))\n",
      "(array([0, 1, 2, 3], dtype=uint64), array([0. , 2. , 3.5, 4. ]))\n"
     ]
    }
   ],
   "source": [
    "from graphblas import op, semiring, Matrix, Vector\n",
    "\n",
    "# Create the graph and starting vector\n",
    "start_node = 0\n",
    "G = Matrix.from_coo(\n",
    "    [0, 0, 1, 1, 2],\n",
    "    [1, 2, 2, 3, 3],\n",
    "    [2.0, 5.0, 1.5, 4.25, 0.5],\n",
    "    nrows=4, ncols=4)\n",
    "v = Vector.from_coo([start_node], [0.0], size=4)\n",
    "\n",
    "# Compute SSSP\n",
    "while True:\n",
    "    w = v.dup()\n",
    "\n",
    "    # Perform a BFS step using min_plus semiring\n",
    "    # Accumulate into v using the `min` function\n",
    "    v(op.min) << semiring.min_plus(v @ G)\n",
    "    print(v.to_coo())\n",
    "    # The algorithm is converged once v stops changing\n",
    "    if v.isequal(w):\n",
    "        break\n"
   ]
  }
 ],
 "metadata": {
  "kernelspec": {
   "display_name": "venv",
   "language": "python",
   "name": "python3"
  },
  "language_info": {
   "codemirror_mode": {
    "name": "ipython",
    "version": 3
   },
   "file_extension": ".py",
   "mimetype": "text/x-python",
   "name": "python",
   "nbconvert_exporter": "python",
   "pygments_lexer": "ipython3",
   "version": "3.10.6"
  },
  "orig_nbformat": 4,
  "vscode": {
   "interpreter": {
    "hash": "9532db79bf32e5cb08d8893ffe737ac3688b5349f4cfaaffc85787820ed8d150"
   }
  }
 },
 "nbformat": 4,
 "nbformat_minor": 2
}
